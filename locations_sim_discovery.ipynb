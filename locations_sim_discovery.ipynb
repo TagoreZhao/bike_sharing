{
 "cells": [
  {
   "attachments": {},
   "cell_type": "markdown",
   "metadata": {},
   "source": [
    "# Location-discovery algorithm\n",
    "\n",
    "This notebook demonstrates the performance of the location-discovery algorithm (both single and batch mode) proposed in the paper, where relevant results can be found in Table 3, Section 5.1.2."
   ]
  },
  {
   "attachments": {},
   "cell_type": "markdown",
   "metadata": {},
   "source": [
    "## 1. Preload packages and functions"
   ]
  },
  {
   "cell_type": "code",
   "execution_count": 1,
   "metadata": {
    "vscode": {
     "languageId": "python"
    }
   },
   "outputs": [],
   "source": [
    "import numpy as np\n",
    "import matplotlib.pyplot as plt\n",
    "import warnings\n",
    "import cvxpy as cp\n",
    "import matplotlib.lines as mlines\n",
    "import matplotlib.pyplot as plt\n",
    "from tqdm import tqdm\n",
    "from scipy.optimize import linprog\n",
    "from scripts.estimation import *\n",
    "from scripts.utils import *\n",
    "from scripts.discovery import *"
   ]
  },
  {
   "attachments": {},
   "cell_type": "markdown",
   "metadata": {},
   "source": [
    "## Synthetic Data Generation\n",
    "\n",
    "We generate the synthetic data from a Poisson process with an underlying MNL model as rider's choice probability. In this example, all arrival locations are generated from a uniform distribution within a square field inside the location bound."
   ]
  },
  {
   "cell_type": "code",
   "execution_count": 2,
   "metadata": {
    "vscode": {
     "languageId": "python"
    }
   },
   "outputs": [],
   "source": [
    "rand_seed = 1\n",
    "np.random.seed(rand_seed)\n",
    "num_position = 10\n",
    "bike_num = 40\n",
    "lambd = 10\n",
    "grid_size = 10\n",
    "beta0 = 1\n",
    "beta1_true = -1\n",
    "T = 100\n",
    "loc_bound = 5\n",
    "bike_num,num_records,book_bike,book_index,dist, \\\n",
    "bike_loc,all_period,num_booked,cand_loc,true_loc, \\\n",
    "position_weight=gen_sync(rand_seed,num_position,bike_num,lambd,grid_size,beta0=beta0,beta1_true=beta1_true,T=T,loc_bound=loc_bound)"
   ]
  },
  {
   "attachments": {},
   "cell_type": "markdown",
   "metadata": {},
   "source": [
    "# Implementation of the Location-Discovery Algorithm\n",
    "\n",
    "The following snippets implement the location-discovery algorithm under the synthetic data generated above. We randomly initialize two locations and use our location-discovery algorithm to discover potential arrival locations until convergence. After we discover a set of locations, to prevent overfitting, we trim locations where the corresponding weights are less than 0.01."
   ]
  },
  {
   "attachments": {},
   "cell_type": "markdown",
   "metadata": {},
   "source": [
    "## Single discovery mode \n",
    "\n",
    "The single discovery mode discovers location one at a time."
   ]
  },
  {
   "cell_type": "code",
   "execution_count": 3,
   "metadata": {
    "vscode": {
     "languageId": "python"
    }
   },
   "outputs": [],
   "source": [
    "init_num = 2\n",
    "cur_locnum = init_num\n",
    "lkd = np.array([])\n",
    "lkd = np.append(lkd,-np.inf)\n",
    "loc_add = np.array([])\n",
    "init_loc = np.random.uniform(-loc_bound/2,loc_bound/2,(2,2))\n",
    "cur_loc = init_loc\n",
    "beta1_cur = beta1_true\n",
    "pre_w = np.random.uniform(0,1,cur_locnum)\n",
    "pre_w = pre_w/np.sum(pre_w)\n",
    "cur_bic = np.inf\n",
    "pre_bic = np.inf\n",
    "while (cur_bic<=pre_bic):\n",
    "    if cur_locnum > init_num:\n",
    "        cur_loc = np.vstack((cur_loc,loc_add))\n",
    "        pre_w = cur_w\n",
    "    cur_dist = caldist(cur_loc,bike_loc,bike_num)\n",
    "    choice_prob = findchoice_prob(cur_locnum,cur_dist,beta0,beta1_cur,num_records,bike_num)\n",
    "    cur_w = findw_EM(cur_locnum,cur_loc.reshape(1,-1,2),beta0,bike_num,num_records,bike_loc,book_bike,num_booked,\n",
    "             book_index,all_period,T)\n",
    "    cur_lkd = findlkd_no_constraint(cur_locnum,cur_dist,beta0,np.repeat(beta1_cur,cur_locnum).reshape(-1,1),cur_w,\n",
    "                                    bike_num,num_records,book_bike,book_index,num_booked,all_period)\n",
    "    lkd = np.append(lkd,cur_lkd)\n",
    "    pre_bic = cur_bic\n",
    "    cur_bic = -lkd[-1]+0.5*cur_locnum*np.log(num_booked)\n",
    "    s = np.sum((1-np.sum(np.expand_dims(cur_w,1)*(1/(1+np.sum(np.exp(beta0+beta1_cur*cur_dist),axis=2))),axis=0))*all_period)\n",
    "    dist_new = caldist(cand_loc,bike_loc,bike_num)\n",
    "    grad1 = calgrad(num_booked,s,cand_loc.shape[1],beta0,beta1_cur,choice_prob,all_period,cur_w,dist_new\n",
    "                    ,bike_num,num_records,book_bike,book_index)\n",
    "    loc_ind1 = np.argmax(grad1)\n",
    "    cand_loc2 = gen_loc(loc_bound,grid_size,s=(grid_size-1)/2,coor=cand_loc[0,loc_ind1])\n",
    "    dist_new = caldist(cand_loc2,bike_loc,bike_num)\n",
    "    grad2 = calgrad(num_booked,s,cand_loc2.shape[1],beta0,beta1_cur,choice_prob,all_period,cur_w,dist_new\n",
    "                    ,bike_num,num_records,book_bike,book_index)\n",
    "    loc_add = cand_loc2[0,np.argmax(grad2)].reshape(1,2)\n",
    "    cur_locnum = cur_locnum + 1"
   ]
  },
  {
   "cell_type": "code",
   "execution_count": 4,
   "metadata": {
    "vscode": {
     "languageId": "python"
    }
   },
   "outputs": [
    {
     "name": "stdout",
     "output_type": "stream",
     "text": [
      "Number of discovered locations: 11\n",
      "The Wasserstein distance is: 2.6855974480427482\n",
      "The log-likelihood value is: -4447.464471330246\n",
      "The BIC value is: 4482.498926735801\n"
     ]
    }
   ],
   "source": [
    "# Location trimming\n",
    "thres = 0.01\n",
    "num_loc = cur_w.shape[0]\n",
    "disc_lkd = lkd[-1]\n",
    "sel_ind = cur_w>thres\n",
    "w_trim = cur_w[sel_ind]/np.sum(cur_w[sel_ind])\n",
    "was_dist_disc = find_wasserstein(cur_loc[sel_ind,:],true_loc,w_trim,position_weight)\n",
    "num_remains = np.sum(sel_ind)\n",
    "trimmed_lkd = findlkd_no_constraint(np.sum(sel_ind),caldist(cur_loc[sel_ind,:],bike_loc,bike_num),\\\n",
    "                                    beta0,np.repeat(beta1_cur,np.sum(sel_ind)).reshape(-1,1),w_trim,\n",
    "                                    bike_num,num_records,book_bike,book_index,num_booked,all_period)\n",
    "bic = -trimmed_lkd+0.5*num_remains*np.log(num_booked)\n",
    "print('Number of discovered locations:', num_remains)\n",
    "print('The Wasserstein distance is:',was_dist_disc[0])\n",
    "print('The log-likelihood value is:',trimmed_lkd)\n",
    "print('The BIC value is:', bic)"
   ]
  },
  {
   "attachments": {},
   "cell_type": "markdown",
   "metadata": {},
   "source": [
    "## Batch Discovery Mode\n",
    "\n",
    "The batch discovery mode discovers multiple locations at a time that can potentially enlarges the log-likelihood value."
   ]
  },
  {
   "cell_type": "code",
   "execution_count": 5,
   "metadata": {
    "vscode": {
     "languageId": "python"
    }
   },
   "outputs": [],
   "source": [
    "init_num = 2\n",
    "cur_locnum = init_num\n",
    "test_stats = np.inf\n",
    "test_stats_buff = np.inf\n",
    "lkd = np.array([])\n",
    "lkd = np.append(lkd,-np.inf)\n",
    "loc_add = np.array([])\n",
    "cur_loc = init_loc\n",
    "beta1_cur = beta1_true\n",
    "cur_bic = np.inf\n",
    "pre_bic = np.inf\n",
    "while (cur_bic<=pre_bic):\n",
    "  if cur_locnum > init_num:\n",
    "      cur_loc = np.vstack((cur_loc,loc_add))\n",
    "      pre_w = cur_w\n",
    "  cur_dist = caldist(cur_loc,bike_loc,bike_num)\n",
    "  choice_prob = findchoice_prob(cur_locnum,cur_dist,beta0,beta1_cur,num_records,bike_num)\n",
    "  cur_w = findw_EM(cur_locnum,cur_loc.reshape(1,-1,2),beta0,bike_num,num_records,bike_loc,book_bike,num_booked,\n",
    "             book_index,all_period,T)\n",
    "  cur_lkd = findlkd_no_constraint(cur_locnum,cur_dist,beta0,np.repeat(beta1_cur,cur_locnum).reshape(-1,1),cur_w,\n",
    "                                  bike_num,num_records,book_bike,book_index,num_booked,all_period)\n",
    "  lkd = np.append(lkd,cur_lkd)\n",
    "  pre_bic = cur_bic\n",
    "  cur_bic = -lkd[-1]+0.5*cur_locnum*np.log(num_booked)\n",
    "  test_stats = -2*(lkd[-2]-lkd[-1])\n",
    "  test_stats_buff = test_stats\n",
    "  s = np.sum((1-np.sum(np.expand_dims(cur_w,1)*(1/(1+np.sum(np.exp(beta0+beta1_cur*cur_dist),axis=2))),axis=0))*all_period)\n",
    "  dist_new = caldist(cand_loc,bike_loc,bike_num)\n",
    "  grad1 = calgrad(num_booked,s,cand_loc.shape[1],beta0,beta1_cur,choice_prob,all_period,cur_w,dist_new\n",
    "                  ,bike_num,num_records,book_bike,book_index)\n",
    "  loc_ind1 = sel_loc_max(grad1,grid_size)\n",
    "  num_added = loc_ind1.shape[0]\n",
    "  loc_add = np.zeros((num_added,2))\n",
    "  for i,loc_ind in enumerate(loc_ind1):\n",
    "      cand_loc2 = gen_loc(loc_bound,grid_size,s=(grid_size-1)/2,coor=cand_loc[0,loc_ind])\n",
    "      dist_new = caldist(cand_loc2,bike_loc,bike_num)\n",
    "      grad2 = calgrad(num_booked,s,cand_loc2.shape[1],beta0,beta1_cur,choice_prob,all_period,cur_w,dist_new\n",
    "                      ,bike_num,num_records,book_bike,book_index)\n",
    "      loc_add[i] = cand_loc2[0,np.argmax(grad2)]\n",
    "  cur_locnum = cur_locnum + num_added\n"
   ]
  },
  {
   "cell_type": "code",
   "execution_count": 6,
   "metadata": {
    "vscode": {
     "languageId": "python"
    }
   },
   "outputs": [
    {
     "name": "stdout",
     "output_type": "stream",
     "text": [
      "Number of discovered locations: 12\n",
      "The Wasserstein distance is: 2.0784613476798213\n",
      "The log-likelihood value is: -4439.900724836441\n",
      "The BIC value is: 4478.12013073341\n"
     ]
    }
   ],
   "source": [
    "# Location trimming\n",
    "thres = 0.01\n",
    "sel_ind = cur_w>thres\n",
    "w_trim = cur_w[sel_ind]/np.sum(cur_w[sel_ind])\n",
    "was_dist_disc = find_wasserstein(cur_loc[sel_ind,:],true_loc,w_trim,position_weight)\n",
    "num_remains = np.sum(sel_ind)\n",
    "trimmed_lkd = findlkd_no_constraint(np.sum(sel_ind),caldist(cur_loc[sel_ind,:],bike_loc,bike_num),\\\n",
    "                                    beta0,np.repeat(beta1_true,np.sum(sel_ind)).reshape(-1,1),w_trim,\n",
    "                                    bike_num,num_records,book_bike,book_index,num_booked,all_period)\n",
    "bic = -trimmed_lkd+0.5*num_remains*np.log(num_booked)\n",
    "print('Number of discovered locations:', num_remains)\n",
    "print('The Wasserstein distance is:',was_dist_disc[0])\n",
    "print('The log-likelihood value is:',trimmed_lkd)\n",
    "print('The BIC value is:', bic)"
   ]
  },
  {
   "attachments": {},
   "cell_type": "markdown",
   "metadata": {},
   "source": [
    "# Visualization\n",
    "\n",
    "We can visualize the predicted locations and the true locations with their corresponding weights over a Cartesian coordinate as follows. "
   ]
  },
  {
   "cell_type": "code",
   "execution_count": 7,
   "metadata": {
    "vscode": {
     "languageId": "python"
    }
   },
   "outputs": [
    {
     "name": "stderr",
     "output_type": "stream",
     "text": [
      "No artists with labels found to put in legend.  Note that artists whose label start with an underscore are ignored when legend() is called with no argument.\n"
     ]
    },
    {
     "data": {
      "image/png": "[encoded data removed]",
      "text/plain": [
       "<Figure size 432x288 with 2 Axes>"
      ]
     },
     "metadata": {
      "needs_background": "light"
     },
     "output_type": "display_data"
    }
   ],
   "source": [
    "pred_loc = cur_loc[sel_ind,:]\n",
    "pred_weight = w_trim\n",
    "\n",
    "plt.scatter(pred_loc[:,0], pred_loc[:,1], c=pred_weight, s=30)\n",
    "plt.scatter(true_loc[:,0], true_loc[:,1], c=position_weight, marker=\"^\",s=30)\n",
    "plt.xlim(-loc_bound,loc_bound)\n",
    "plt.ylim(-loc_bound,loc_bound)\n",
    "plt.xlabel('x')\n",
    "plt.ylabel('y')\n",
    "plt.legend()\n",
    "plt.colorbar()\n",
    "\n",
    "blue_star = mlines.Line2D([], [], color='black', marker='^', linestyle='None', fillstyle='none',\n",
    "                          markersize=6, label='True locations')\n",
    "red_square = mlines.Line2D([], [], color='black', marker='o', linestyle='None',fillstyle='none',\n",
    "                          markersize=6, label='Predicted locations')\n",
    "\n",
    "plt.legend(handles=[blue_star, red_square])\n",
    "\n",
    "plt.show()"
   ]
  },
  {
   "attachments": {},
   "cell_type": "markdown",
   "metadata": {},
   "source": [
    "# Extension: Jointly estimate w and beta1\n",
    "We extend the above algorithm to jointly estimate the weight vector `w` and the slope `beta1` in the MNL model. All other setups are the same as before."
   ]
  },
  {
   "attachments": {},
   "cell_type": "markdown",
   "metadata": {},
   "source": [
    "## Single Discovery Mode"
   ]
  },
  {
   "cell_type": "code",
   "execution_count": 8,
   "metadata": {
    "vscode": {
     "languageId": "python"
    }
   },
   "outputs": [],
   "source": [
    "init_num = 2\n",
    "cur_locnum = init_num\n",
    "lkd = np.array([])\n",
    "conv = False\n",
    "lkd = np.append(lkd,-np.inf)\n",
    "loc_add = np.array([])\n",
    "cur_loc = np.random.uniform(-loc_bound/2,loc_bound/2,(2,2))\n",
    "\n",
    "beta1_cur = np.random.uniform(-10,0)\n",
    "beta1_rec = np.array([beta1_cur])\n",
    "beta1_diff = np.inf\n",
    "pre_w = np.random.uniform(0,1,cur_locnum)\n",
    "pre_w = pre_w/np.sum(pre_w)\n",
    "cur_bic = np.inf\n",
    "pre_bic = np.inf\n",
    "while (cur_bic<=pre_bic) or (beta1_diff>0.05) or (cur_locnum<=5):\n",
    "    if cur_locnum > init_num:\n",
    "        cur_loc = np.vstack((cur_loc,loc_add))\n",
    "        pre_w = cur_w\n",
    "    cur_dist = caldist(cur_loc,bike_loc,bike_num)\n",
    "    choice_prob = findchoice_prob(cur_locnum,cur_dist,beta0,beta1_cur,num_records,bike_num)\n",
    "    beta1_cur,cur_w = findbetaw_EM(cur_locnum,cur_loc.reshape(1,-1,2),beta0,beta1_cur,\n",
    "                                   bike_num,num_records,bike_loc,book_bike,num_booked,book_index,all_period,T)\n",
    "    beta1_diff = np.abs(beta1_rec[-1]-beta1_cur)\n",
    "    beta1_rec = np.append(beta1_rec,beta1_cur)\n",
    "    cur_lkd = findlkd_no_constraint(cur_locnum,cur_dist,beta0,np.repeat(beta1_cur,cur_locnum).reshape(-1,1),cur_w,\n",
    "                                    bike_num,num_records,book_bike,book_index,num_booked,all_period)\n",
    "    lkd = np.append(lkd,cur_lkd)\n",
    "    pre_bic = cur_bic\n",
    "    cur_bic = -lkd[-1]+0.5*cur_locnum*np.log(num_booked)\n",
    "    s = np.sum((1-np.sum(np.expand_dims(cur_w,1)*(1/(1+np.sum(np.exp(beta0+beta1_cur*cur_dist),axis=2))),axis=0))*all_period)\n",
    "    dist_new = caldist(cand_loc,bike_loc,bike_num)\n",
    "    grad1 = calgrad(num_booked,s,cand_loc.shape[1],beta0,beta1_cur,choice_prob,all_period,cur_w,dist_new\n",
    "                    ,bike_num,num_records,book_bike,book_index)\n",
    "    loc_ind1 = np.argmax(grad1)\n",
    "    cand_loc2 = gen_loc(loc_bound,grid_size,s=(grid_size-1)/2,coor=cand_loc[0,loc_ind1])\n",
    "    dist_new = caldist(cand_loc2,bike_loc,bike_num)\n",
    "    grad2 = calgrad(num_booked,s,cand_loc2.shape[1],beta0,beta1_cur,choice_prob,all_period,cur_w,dist_new\n",
    "                    ,bike_num,num_records,book_bike,book_index)\n",
    "    loc_add = cand_loc2[0,np.argmax(grad2)].reshape(1,2)\n",
    "    cur_locnum = cur_locnum + 1"
   ]
  },
  {
   "cell_type": "code",
   "execution_count": 9,
   "metadata": {
    "vscode": {
     "languageId": "python"
    }
   },
   "outputs": [
    {
     "name": "stdout",
     "output_type": "stream",
     "text": [
      "The MAPE of beta1 is: 0.13105546471578333\n",
      "The Wasserstein distance is: 2.0266777291269076\n"
     ]
    }
   ],
   "source": [
    "sel_ind = cur_w>0.01\n",
    "w_trim = cur_w[sel_ind]/np.sum(cur_w[sel_ind])\n",
    "was_dist_disc = find_wasserstein(cur_loc[sel_ind,:],true_loc,w_trim,position_weight)[0]\n",
    "num_remains = np.sum(sel_ind)\n",
    "trimmed_lkd = findlkd_no_constraint(np.sum(sel_ind),caldist(cur_loc[sel_ind,:],bike_loc,bike_num),\\\n",
    "                                    beta0,np.repeat(beta1_cur,np.sum(sel_ind)).reshape(-1,1),w_trim,\n",
    "                                    bike_num,num_records,book_bike,book_index,num_booked,all_period)\n",
    "bic = -trimmed_lkd+0.5*num_remains*np.log(num_booked)\n",
    "print('The MAPE of beta1 is:',np.abs((beta1_cur-beta1_true)/-beta1_true))\n",
    "print('The Wasserstein distance is:',was_dist_disc)"
   ]
  },
  {
   "attachments": {},
   "cell_type": "markdown",
   "metadata": {},
   "source": [
    "## Batch Discovery mode"
   ]
  },
  {
   "cell_type": "code",
   "execution_count": 10,
   "metadata": {
    "vscode": {
     "languageId": "python"
    }
   },
   "outputs": [],
   "source": [
    "init_num = 2\n",
    "cur_locnum = init_num\n",
    "test_stats = np.inf\n",
    "test_stats_buff = np.inf\n",
    "lkd = np.array([])\n",
    "lkd = np.append(lkd,-np.inf)\n",
    "loc_add = np.array([])\n",
    "cur_loc = np.random.uniform(-loc_bound/2,loc_bound/2,(2,2))\n",
    "beta1_cur = np.random.uniform(-10,0)\n",
    "beta1_rec = np.array([beta1_cur])\n",
    "beta1_diff = np.inf\n",
    "cur_bic = np.inf\n",
    "pre_bic = np.inf\n",
    "while (cur_bic<=pre_bic) or (beta1_diff>0.05) or (cur_locnum<=5):\n",
    "    if cur_locnum > init_num:\n",
    "        cur_loc = np.vstack((cur_loc,loc_add))\n",
    "        pre_w = cur_w\n",
    "    cur_dist = caldist(cur_loc,bike_loc,bike_num)\n",
    "    choice_prob = findchoice_prob(cur_locnum,cur_dist,beta0,beta1_cur,num_records,bike_num)\n",
    "    beta1_cur,cur_w = findbetaw_EM(cur_locnum,cur_loc.reshape(1,-1,2),beta0,beta1_cur,\n",
    "                                   bike_num,num_records,bike_loc,book_bike,num_booked,book_index,all_period,T)\n",
    "    beta1_diff = np.abs(beta1_rec[-1]-beta1_cur)\n",
    "    beta1_rec = np.append(beta1_rec,beta1_cur)\n",
    "    cur_lkd = findlkd_no_constraint(cur_locnum,cur_dist,beta0,np.repeat(beta1_cur,cur_locnum).reshape(-1,1),cur_w,\n",
    "                                    bike_num,num_records,book_bike,book_index,num_booked,all_period)\n",
    "    lkd = np.append(lkd,cur_lkd)\n",
    "    pre_bic = cur_bic\n",
    "    cur_bic = -lkd[-1]+0.5*cur_locnum*np.log(num_booked)\n",
    "    s = np.sum((1-np.sum(np.expand_dims(cur_w,1)*(1/(1+np.sum(np.exp(beta0+beta1_cur*cur_dist),axis=2))),axis=0))*all_period)\n",
    "    dist_new = caldist(cand_loc,bike_loc,bike_num)\n",
    "    grad1 = calgrad(num_booked,s,cand_loc.shape[1],beta0,beta1_cur,choice_prob,all_period,cur_w,dist_new\n",
    "                    ,bike_num,num_records,book_bike,book_index)\n",
    "    loc_ind1 = sel_loc_max(grad1,grid_size)\n",
    "    num_added = loc_ind1.shape[0]\n",
    "    loc_add = np.zeros((num_added,2))\n",
    "    for i,loc_ind in enumerate(loc_ind1):\n",
    "        cand_loc2 = gen_loc(loc_bound,grid_size,s=(grid_size-1)/2,coor=cand_loc[0,loc_ind])\n",
    "        dist_new = caldist(cand_loc2,bike_loc,bike_num)\n",
    "        grad2 = calgrad(num_booked,s,cand_loc2.shape[1],beta0,beta1_cur,choice_prob,all_period,cur_w,dist_new\n",
    "                        ,bike_num,num_records,book_bike,book_index)\n",
    "        loc_add[i] = cand_loc2[0,np.argmax(grad2)]\n",
    "    cur_locnum = cur_locnum + num_added"
   ]
  },
  {
   "cell_type": "code",
   "execution_count": 11,
   "metadata": {
    "vscode": {
     "languageId": "python"
    }
   },
   "outputs": [
    {
     "name": "stdout",
     "output_type": "stream",
     "text": [
      "The MAPE of beta1 is: 0.1371774577776026\n",
      "The Wasserstein distance is: 1.8841417585442124\n"
     ]
    }
   ],
   "source": [
    "sel_ind = cur_w>0.01\n",
    "w_trim = cur_w[sel_ind]/np.sum(cur_w[sel_ind])\n",
    "was_dist_disc = find_wasserstein(cur_loc[sel_ind,:],true_loc,w_trim,position_weight)[0]\n",
    "num_remains = np.sum(sel_ind)\n",
    "trimmed_lkd = findlkd_no_constraint(np.sum(sel_ind),caldist(cur_loc[sel_ind,:],bike_loc,bike_num),\\\n",
    "                                    beta0,np.repeat(beta1_cur,np.sum(sel_ind)).reshape(-1,1),w_trim,\n",
    "                                    bike_num,num_records,book_bike,book_index,num_booked,all_period)\n",
    "bic = -trimmed_lkd+0.5*num_remains*np.log(num_booked)\n",
    "print('The MAPE of beta1 is:',np.abs((beta1_cur-beta1_true)/-beta1_true))\n",
    "print('The Wasserstein distance is:',was_dist_disc)"
   ]
  }
 ],
 "metadata": {
  "kernelspec": {
   "display_name": "Python 3 (ipykernel)",
   "language": "python",
   "name": "python3"
  },
  "vscode": {
   "interpreter": {
    "hash": "916dbcbb3f70747c44a77c7bcd40155683ae19c65e1c03b4aa3499c5328201f1"
   }
  }
 },
 "nbformat": 4,
 "nbformat_minor": 2
}
