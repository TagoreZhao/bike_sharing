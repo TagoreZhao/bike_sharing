{
 "cells": [
  {
   "attachments": {},
   "cell_type": "markdown",
   "metadata": {},
   "source": [
    "# Comparsion of the EM and MM method\n",
    "\n",
    "This notebook demonstrates the performance of the EM algorithm proposed in the paper, where relevant results can be found in Table 1, Section 5.1.1."
   ]
  },
  {
   "attachments": {},
   "cell_type": "markdown",
   "metadata": {},
   "source": [
    "## Preload packages and functions"
   ]
  },
  {
   "cell_type": "code",
   "execution_count": 1,
   "metadata": {},
   "outputs": [],
   "source": [
    "import numpy as np\n",
    "import matplotlib.pyplot as plt\n",
    "import cvxpy as cp\n",
    "from scripts.estimation import *\n",
    "from scripts.utils import *"
   ]
  },
  {
   "attachments": {},
   "cell_type": "markdown",
   "metadata": {},
   "source": [
    "# Generate Synthetic Data\n",
    "\n",
    "We generate the synthetic data from a Poisson process with an underlying MNL model as rider's choice probability. In the MNL model, the intercept is `beta0` and the slope regarding the distance to an available bike is `beta1`. The arrival times of riders follow Poisson process with rate `lambd`. The number of generated arrival locations is set as `num_position`. The number of bikes that is included in the system is set as `bike_num`. We observe the process for in time period `[0,T]`. In this example, all arrival locations are generated randomly at the intersections of a 5x5 Cartesian grid."
   ]
  },
  {
   "cell_type": "code",
   "execution_count": 2,
   "metadata": {},
   "outputs": [],
   "source": [
    "rand_seed = 1\n",
    "num_position = 5\n",
    "bike_num = 30\n",
    "lambd = 10\n",
    "grid_size = 5\n",
    "beta0 = 1\n",
    "beta1_true = -1\n",
    "T = 100\n",
    "loc_bound = 5\n",
    "true_pos_ind,bike_num,num_records,book_bike,book_index, \\\n",
    "dist,bike_loc,all_period,num_booked, \\\n",
    "cand_loc,true_loc,position_weight = gen_sync_in_grid(rand_seed,num_position,bike_num,lambd,\n",
    "                                                     grid_size,beta0=beta0,beta1_true=beta1_true,T=T,loc_bound=loc_bound)"
   ]
  },
  {
   "attachments": {},
   "cell_type": "markdown",
   "metadata": {},
   "source": [
    "# Test on the EM algorithm\n",
    "The following snippet tests the performance of the EM algorithm. All arrival locations are randomly generated in a Cartesian grid that is chosen as the candidate location set for the all-in algorithm. To test the accuracy of the EM algorithm, we select the first `num_position` locations in the candidate set decreasing ordered by the predicted weights. We compute the log-likelihood value and the Wasserstein distance between the predicted weights and the underlying truth."
   ]
  },
  {
   "cell_type": "code",
   "execution_count": 3,
   "metadata": {},
   "outputs": [
    {
     "name": "stdout",
     "output_type": "stream",
     "text": [
      "Number of Iterations: 478\n",
      "The Wasserstein distance is: 3.2366596595842063\n",
      "The log-likelihood value is: -3353.364043421947\n",
      "The BIC value is: 3381.1272917181586\n"
     ]
    }
   ],
   "source": [
    "num_position_true = num_position\n",
    "num_position = grid_size**2\n",
    "\n",
    "w = np.random.uniform(0,1,num_position)\n",
    "w = w/np.sum(w)\n",
    "w = w.reshape(1,-1)\n",
    "diff_w = np.inf\n",
    "beta1 = np.repeat(-1,num_position).reshape(-1,1)\n",
    "dist_old = caldist(cand_loc[-1],bike_loc,bike_num)\n",
    "iter = 0\n",
    "threshold = 1e-4\n",
    "while diff_w > threshold:\n",
    "    iter = iter+1\n",
    "    p_old = np.zeros((num_position,bike_num+1,num_records))\n",
    "    p_olds = np.zeros((num_position,num_booked))\n",
    "    w_old = w[-1,:]\n",
    "    p_old[:,0,:] = 1/(1+np.sum(np.exp(beta0+np.reshape(beta1,(-1,1,1))*dist_old),axis=2))\n",
    "    p_old[:,1:,:] = np.exp(beta0+np.reshape(beta1,(-1,1,1))*np.transpose(dist_old,(0,2,1)))/ \\\n",
    "        np.reshape((1+np.sum(np.exp(beta0+np.reshape(beta1,(-1,1,1))*dist_old),axis=2)),(num_position,1,-1))\n",
    "    p_olds = p_old[:,book_bike+1,book_index]*np.reshape(w_old,(-1,1))/np.reshape(np.sum(np.reshape(w_old,(-1,1))*p_old[:,book_bike+1,book_index],axis=0),(1,-1))\n",
    "    p_oldsj0 = w_old*np.sum(p_old[:,0,:]*all_period,axis=1)/np.sum(w_old*np.sum(p_old[:,0,:]*all_period,axis=1))\n",
    "    s_old = np.sum((1-np.sum(np.expand_dims(w_old,1)*(1/(1+np.sum(np.exp(beta0+np.reshape(beta1,(-1,1,1))*dist_old),axis=2))),axis=0))*all_period)\n",
    "    N_oldy = num_booked*(T-s_old)/s_old\n",
    "    c = np.sum(p_olds,axis=1)+N_oldy*p_oldsj0\n",
    "    w_star = np.reshape(c/np.sum(c),(1,-1))\n",
    "    w = np.concatenate((w,w_star),axis=0)\n",
    "    diff_w = np.sum(np.abs(w[-1,:]-w[-2,:]))\n",
    "\n",
    "pre_w = w[-2]\n",
    "true_w = np.zeros(grid_size**2)\n",
    "true_w[true_pos_ind] = position_weight\n",
    "sel_ind = np.where(pre_w>=np.sort(pre_w)[-num_position_true])[0]\n",
    "true_pred_ind = np.intersect1d(sel_ind,true_pos_ind)\n",
    "l1norm = np.sum(np.abs(pre_w-true_w))\n",
    "\n",
    "thres = 0.01\n",
    "sel_ind = pre_w>thres\n",
    "num_remains = np.sum(sel_ind)\n",
    "w_trim = pre_w[sel_ind]/np.sum(pre_w[sel_ind])\n",
    "was_dist_disc = find_wasserstein(cand_loc[0,sel_ind,:],true_loc,w_trim,position_weight)\n",
    "trimmed_lkd = findlkd_no_constraint(np.sum(sel_ind),caldist(cand_loc[0,sel_ind,:],bike_loc,bike_num),\\\n",
    "                                    beta0,np.repeat(beta1_true,np.sum(sel_ind)).reshape(-1,1),w_trim,\n",
    "                                    bike_num,num_records,book_bike,book_index,num_booked,all_period)\n",
    "bic = -trimmed_lkd+0.5*num_remains*np.log(num_booked)\n",
    "print('Number of Iterations:', iter)\n",
    "print('The Wasserstein distance is:',was_dist_disc[0])\n",
    "print('The log-likelihood value is:',trimmed_lkd)\n",
    "print('The BIC value is:', bic)"
   ]
  },
  {
   "attachments": {},
   "cell_type": "markdown",
   "metadata": {},
   "source": [
    "# Test on the MM algorithm"
   ]
  },
  {
   "attachments": {},
   "cell_type": "markdown",
   "metadata": {},
   "source": [
    "The following snippet tests the performance of the EM algorithm. Similarly, the number of iterations, the log-likelihood value, and the Wasserstein distance are reported to compare the MM algorithm to the EM algorithm."
   ]
  },
  {
   "cell_type": "code",
   "execution_count": 4,
   "metadata": {},
   "outputs": [],
   "source": [
    "def find_mm_sol(num_position,num_booked,s_k,choice_prob,all_period):\n",
    "  w_new = cp.Variable((num_position,1))\n",
    "  prob = cp.Problem(cp.Maximize(-num_booked/s_k * cp.sum(cp.multiply((1-cp.sum(cp.multiply(w_new,choice_prob[:,0,:]),axis=0)),all_period)) + \\\n",
    "      cp.sum(cp.log(cp.sum(cp.multiply(w_new,(choice_prob[:,book_bike+1,book_index])),axis=0)))),\n",
    "      [cp.sum(w_new)==1,0<=w_new,w_new<=1]\n",
    "  )\n",
    "  result = prob.solve(solver=cp.SCS)\n",
    "  return w_new.value\n"
   ]
  },
  {
   "cell_type": "code",
   "execution_count": 5,
   "metadata": {},
   "outputs": [
    {
     "name": "stdout",
     "output_type": "stream",
     "text": [
      "Number of Iterations: 6\n",
      "The Wasserstein distance is: 3.0082090615720194\n",
      "The log-likelihood value is: -3353.632824676505\n",
      "The BIC value is: 3378.311267606471\n"
     ]
    }
   ],
   "source": [
    "num_position = grid_size**2\n",
    "w = np.random.uniform(0,1,num_position)\n",
    "w = w/np.sum(w)\n",
    "w = w.reshape(1,-1)\n",
    "beta1 = np.repeat(-1,num_position).reshape(-1,1)\n",
    "loc = cand_loc\n",
    "\n",
    "dist1 = caldist(loc,bike_loc,bike_num)\n",
    "choice_prob = np.zeros((num_position,bike_num+1,num_records))\n",
    "choice_prob[:,0,:] = 1/(1+np.sum(np.exp(beta0+beta1.reshape(-1,1,1)*dist1),axis=2))\n",
    "choice_prob[:,1:,:] = np.exp(beta0+beta1.reshape(-1,1,1)*np.transpose(dist1,(0,2,1)))/(1+np.sum(np.exp(beta0+beta1.reshape(-1,1,1)*dist1),axis=2)).reshape(num_position,1,-1)\n",
    "diff_w = np.inf\n",
    "threshold = 1e-4\n",
    "iter = 0\n",
    "while diff_w > threshold:\n",
    "  iter = iter + 1\n",
    "  w_old = w[-1]\n",
    "  s_k = np.sum((1-np.sum(w_old.reshape(-1,1)*choice_prob[:,0,:],axis=0))*all_period)\n",
    "  w_new = find_mm_sol(num_position,num_booked,s_k,choice_prob,all_period).reshape(1,-1)\n",
    "  w = np.concatenate((w,w_new),axis=0)\n",
    "  diff_w = np.sum(np.abs(w[-1]-w[-2]))\n",
    "\n",
    "pre_w = w[-2]\n",
    "true_w = np.zeros(grid_size**2)\n",
    "true_w[true_pos_ind] = position_weight\n",
    "sel_ind = np.where(pre_w>=np.sort(pre_w)[-num_position_true])[0]\n",
    "true_pred_ind = np.intersect1d(sel_ind,true_pos_ind)\n",
    "l1norm = np.sum(np.abs(pre_w-true_w))\n",
    "\n",
    "thres = 0.01\n",
    "sel_ind = pre_w>thres\n",
    "num_remains = np.sum(sel_ind)\n",
    "w_trim = pre_w[sel_ind]/np.sum(pre_w[sel_ind])\n",
    "was_dist_disc = find_wasserstein(cand_loc[0,sel_ind,:],true_loc,w_trim,position_weight)\n",
    "trimmed_lkd = findlkd_no_constraint(np.sum(sel_ind),caldist(cand_loc[0,sel_ind,:],bike_loc,bike_num),\\\n",
    "                                    beta0,np.repeat(beta1_true,np.sum(sel_ind)).reshape(-1,1),w_trim,\n",
    "                                    bike_num,num_records,book_bike,book_index,num_booked,all_period)\n",
    "bic = -trimmed_lkd+0.5*num_remains*np.log(num_booked)\n",
    "print('Number of Iterations:', iter)\n",
    "print('The Wasserstein distance is:',was_dist_disc[0])\n",
    "print('The log-likelihood value is:',trimmed_lkd)\n",
    "print('The BIC value is:', bic)"
   ]
  }
 ],
 "metadata": {
  "kernelspec": {
   "display_name": "Python 3 (ipykernel)",
   "language": "python",
   "name": "python3"
  },
  "language_info": {
   "codemirror_mode": {
    "name": "ipython",
    "version": 3
   },
   "file_extension": ".py",
   "mimetype": "text/x-python",
   "name": "python",
   "nbconvert_exporter": "python",
   "pygments_lexer": "ipython3",
   "version": "3.8.10"
  },
  "vscode": {
   "interpreter": {
    "hash": "916dbcbb3f70747c44a77c7bcd40155683ae19c65e1c03b4aa3499c5328201f1"
   }
  }
 },
 "nbformat": 4,
 "nbformat_minor": 2
}
